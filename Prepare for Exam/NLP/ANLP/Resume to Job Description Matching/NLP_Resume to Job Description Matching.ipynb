{
 "cells": [
  {
   "cell_type": "code",
   "execution_count": 1,
   "id": "24032b6c",
   "metadata": {},
   "outputs": [
    {
     "name": "stderr",
     "output_type": "stream",
     "text": [
      "DEPRECATION: omegaconf 2.0.6 has a non-standard dependency specifier PyYAML>=5.1.*. pip 24.1 will enforce this behaviour change. A possible replacement is to upgrade to a newer version of omegaconf or contact the author to suggest that they release a version with a conforming dependency specifiers. Discussion can be found at https://github.com/pypa/pip/issues/12063\n",
      "\n",
      "[notice] A new release of pip is available: 24.0 -> 25.1.1\n",
      "[notice] To update, run: python.exe -m pip install --upgrade pip\n"
     ]
    },
    {
     "name": "stdout",
     "output_type": "stream",
     "text": [
      "WARNING:tensorflow:From c:\\Users\\potij\\AppData\\Local\\Programs\\Python\\Python312\\Lib\\site-packages\\tf_keras\\src\\losses.py:2976: The name tf.losses.sparse_softmax_cross_entropy is deprecated. Please use tf.compat.v1.losses.sparse_softmax_cross_entropy instead.\n",
      "\n",
      "ติดตั้งและ Import Library สำเร็จ\n"
     ]
    }
   ],
   "source": [
    "# %% 1. การติดตั้งและ Import Library\n",
    "\n",
    "# ติดตั้ง Library ที่จำเป็น\n",
    "!pip install -q transformers sentence-transformers datasets lightgbm scikit-learn\n",
    "\n",
    "import pandas as pd\n",
    "import numpy as np\n",
    "from datasets import load_dataset\n",
    "from sentence_transformers import SentenceTransformer\n",
    "from sklearn.model_selection import train_test_split\n",
    "from sklearn.metrics import mean_squared_error\n",
    "import lightgbm as lgb\n",
    "from tqdm.auto import tqdm\n",
    "\n",
    "# ปิด warning ที่ไม่จำเป็นของ pandas\n",
    "pd.options.mode.chained_assignment = None\n",
    "\n",
    "print(\"ติดตั้งและ Import Library สำเร็จ\")\n"
   ]
  },
  {
   "cell_type": "code",
   "execution_count": 6,
   "id": "351fb35c",
   "metadata": {},
   "outputs": [
    {
     "name": "stdout",
     "output_type": "stream",
     "text": [
      "กำลังโหลด STS-B Dataset เพื่อจำลองข้อมูลการแข่งขัน...\n"
     ]
    }
   ],
   "source": [
    "# %% 2. การเตรียมข้อมูล\n",
    "\n",
    "print(\"กำลังโหลด STS-B Dataset เพื่อจำลองข้อมูลการแข่งขัน...\")\n",
    "# โหลดชุดข้อมูล STS-B\n",
    "dataset = load_dataset(\"PhilipMay/stsb_multi_mt\", \"en\")\n",
    "train_data = dataset['train']\n",
    "test_data = dataset['test']\n",
    "\n",
    "# --- สร้างข้อมูลสำหรับฝึกซ้อม (train.csv) ---\n",
    "train_df = pd.DataFrame({\n",
    "    'resume_text': [item['sentence1'] for item in train_data],\n",
    "    'job_description_text': [item['sentence2'] for item in train_data],\n",
    "    'match_score': [item['similarity_score'] for item in train_data]\n",
    "})\n",
    "\n",
    "# --- สร้างข้อมูลสำหรับทดสอบ (test.csv) ---\n",
    "test_df = pd.DataFrame({\n",
    "    'resume_text': [item['sentence1'] for item in test_data],\n",
    "    'job_description_text': [item['sentence2'] for item in test_data],\n",
    "    # ในข้อมูลจริงจะไม่มี score เราจะเก็บไว้เพื่อประเมินผลโมเดลภายหลัง\n",
    "    'actual_score': [item['similarity_score'] for item in test_data]\n",
    "})\n",
    "test_df['pair_id'] = test_df.index\n",
    "\n",
    "\n",
    "\n"
   ]
  },
  {
   "cell_type": "code",
   "execution_count": 7,
   "id": "eff614b3",
   "metadata": {},
   "outputs": [
    {
     "data": {
      "text/plain": [
       "DatasetDict({\n",
       "    train: Dataset({\n",
       "        features: ['sentence1', 'sentence2', 'similarity_score'],\n",
       "        num_rows: 5749\n",
       "    })\n",
       "    test: Dataset({\n",
       "        features: ['sentence1', 'sentence2', 'similarity_score'],\n",
       "        num_rows: 1379\n",
       "    })\n",
       "    dev: Dataset({\n",
       "        features: ['sentence1', 'sentence2', 'similarity_score'],\n",
       "        num_rows: 1500\n",
       "    })\n",
       "})"
      ]
     },
     "execution_count": 7,
     "metadata": {},
     "output_type": "execute_result"
    }
   ],
   "source": [
    "dataset"
   ]
  },
  {
   "cell_type": "code",
   "execution_count": 4,
   "id": "a4e90c46",
   "metadata": {},
   "outputs": [
    {
     "data": {
      "application/vnd.microsoft.datawrangler.viewer.v0+json": {
       "columns": [
        {
         "name": "index",
         "rawType": "int64",
         "type": "integer"
        },
        {
         "name": "resume_text",
         "rawType": "object",
         "type": "string"
        },
        {
         "name": "job_description_text",
         "rawType": "object",
         "type": "string"
        },
        {
         "name": "match_score",
         "rawType": "float64",
         "type": "float"
        }
       ],
       "ref": "3325919e-d1f4-414e-bda7-b2fff6fd210b",
       "rows": [
        [
         "0",
         "A plane is taking off.",
         "An air plane is taking off.",
         "5.0"
        ],
        [
         "1",
         "A man is playing a large flute.",
         "A man is playing a flute.",
         "3.799999952316284"
        ],
        [
         "2",
         "A man is spreading shreded cheese on a pizza.",
         "A man is spreading shredded cheese on an uncooked pizza.",
         "3.799999952316284"
        ],
        [
         "3",
         "Three men are playing chess.",
         "Two men are playing chess.",
         "2.5999999046325684"
        ],
        [
         "4",
         "A man is playing the cello.",
         "A man seated is playing the cello.",
         "4.25"
        ]
       ],
       "shape": {
        "columns": 3,
        "rows": 5
       }
      },
      "text/html": [
       "<div>\n",
       "<style scoped>\n",
       "    .dataframe tbody tr th:only-of-type {\n",
       "        vertical-align: middle;\n",
       "    }\n",
       "\n",
       "    .dataframe tbody tr th {\n",
       "        vertical-align: top;\n",
       "    }\n",
       "\n",
       "    .dataframe thead th {\n",
       "        text-align: right;\n",
       "    }\n",
       "</style>\n",
       "<table border=\"1\" class=\"dataframe\">\n",
       "  <thead>\n",
       "    <tr style=\"text-align: right;\">\n",
       "      <th></th>\n",
       "      <th>resume_text</th>\n",
       "      <th>job_description_text</th>\n",
       "      <th>match_score</th>\n",
       "    </tr>\n",
       "  </thead>\n",
       "  <tbody>\n",
       "    <tr>\n",
       "      <th>0</th>\n",
       "      <td>A plane is taking off.</td>\n",
       "      <td>An air plane is taking off.</td>\n",
       "      <td>5.00</td>\n",
       "    </tr>\n",
       "    <tr>\n",
       "      <th>1</th>\n",
       "      <td>A man is playing a large flute.</td>\n",
       "      <td>A man is playing a flute.</td>\n",
       "      <td>3.80</td>\n",
       "    </tr>\n",
       "    <tr>\n",
       "      <th>2</th>\n",
       "      <td>A man is spreading shreded cheese on a pizza.</td>\n",
       "      <td>A man is spreading shredded cheese on an uncoo...</td>\n",
       "      <td>3.80</td>\n",
       "    </tr>\n",
       "    <tr>\n",
       "      <th>3</th>\n",
       "      <td>Three men are playing chess.</td>\n",
       "      <td>Two men are playing chess.</td>\n",
       "      <td>2.60</td>\n",
       "    </tr>\n",
       "    <tr>\n",
       "      <th>4</th>\n",
       "      <td>A man is playing the cello.</td>\n",
       "      <td>A man seated is playing the cello.</td>\n",
       "      <td>4.25</td>\n",
       "    </tr>\n",
       "  </tbody>\n",
       "</table>\n",
       "</div>"
      ],
      "text/plain": [
       "                                     resume_text  \\\n",
       "0                         A plane is taking off.   \n",
       "1                A man is playing a large flute.   \n",
       "2  A man is spreading shreded cheese on a pizza.   \n",
       "3                   Three men are playing chess.   \n",
       "4                    A man is playing the cello.   \n",
       "\n",
       "                                job_description_text  match_score  \n",
       "0                        An air plane is taking off.         5.00  \n",
       "1                          A man is playing a flute.         3.80  \n",
       "2  A man is spreading shredded cheese on an uncoo...         3.80  \n",
       "3                         Two men are playing chess.         2.60  \n",
       "4                 A man seated is playing the cello.         4.25  "
      ]
     },
     "execution_count": 4,
     "metadata": {},
     "output_type": "execute_result"
    }
   ],
   "source": [
    "train_df.head()"
   ]
  },
  {
   "cell_type": "code",
   "execution_count": 5,
   "id": "fd187541",
   "metadata": {},
   "outputs": [
    {
     "data": {
      "application/vnd.microsoft.datawrangler.viewer.v0+json": {
       "columns": [
        {
         "name": "index",
         "rawType": "int64",
         "type": "integer"
        },
        {
         "name": "resume_text",
         "rawType": "object",
         "type": "string"
        },
        {
         "name": "job_description_text",
         "rawType": "object",
         "type": "string"
        },
        {
         "name": "actual_score",
         "rawType": "float64",
         "type": "float"
        },
        {
         "name": "pair_id",
         "rawType": "int64",
         "type": "integer"
        }
       ],
       "ref": "f36b7403-ab1a-4954-b8e2-89607a738d00",
       "rows": [
        [
         "0",
         "A girl is styling her hair.",
         "A girl is brushing her hair.",
         "2.5",
         "0"
        ],
        [
         "1",
         "A group of men play soccer on the beach.",
         "A group of boys are playing soccer on the beach.",
         "3.5999999046325684",
         "1"
        ],
        [
         "2",
         "One woman is measuring another woman's ankle.",
         "A woman measures another woman's ankle.",
         "5.0",
         "2"
        ],
        [
         "3",
         "A man is cutting up a cucumber.",
         "A man is slicing a cucumber.",
         "4.199999809265137",
         "3"
        ],
        [
         "4",
         "A man is playing a harp.",
         "A man is playing a keyboard.",
         "1.5",
         "4"
        ]
       ],
       "shape": {
        "columns": 4,
        "rows": 5
       }
      },
      "text/html": [
       "<div>\n",
       "<style scoped>\n",
       "    .dataframe tbody tr th:only-of-type {\n",
       "        vertical-align: middle;\n",
       "    }\n",
       "\n",
       "    .dataframe tbody tr th {\n",
       "        vertical-align: top;\n",
       "    }\n",
       "\n",
       "    .dataframe thead th {\n",
       "        text-align: right;\n",
       "    }\n",
       "</style>\n",
       "<table border=\"1\" class=\"dataframe\">\n",
       "  <thead>\n",
       "    <tr style=\"text-align: right;\">\n",
       "      <th></th>\n",
       "      <th>resume_text</th>\n",
       "      <th>job_description_text</th>\n",
       "      <th>actual_score</th>\n",
       "      <th>pair_id</th>\n",
       "    </tr>\n",
       "  </thead>\n",
       "  <tbody>\n",
       "    <tr>\n",
       "      <th>0</th>\n",
       "      <td>A girl is styling her hair.</td>\n",
       "      <td>A girl is brushing her hair.</td>\n",
       "      <td>2.5</td>\n",
       "      <td>0</td>\n",
       "    </tr>\n",
       "    <tr>\n",
       "      <th>1</th>\n",
       "      <td>A group of men play soccer on the beach.</td>\n",
       "      <td>A group of boys are playing soccer on the beach.</td>\n",
       "      <td>3.6</td>\n",
       "      <td>1</td>\n",
       "    </tr>\n",
       "    <tr>\n",
       "      <th>2</th>\n",
       "      <td>One woman is measuring another woman's ankle.</td>\n",
       "      <td>A woman measures another woman's ankle.</td>\n",
       "      <td>5.0</td>\n",
       "      <td>2</td>\n",
       "    </tr>\n",
       "    <tr>\n",
       "      <th>3</th>\n",
       "      <td>A man is cutting up a cucumber.</td>\n",
       "      <td>A man is slicing a cucumber.</td>\n",
       "      <td>4.2</td>\n",
       "      <td>3</td>\n",
       "    </tr>\n",
       "    <tr>\n",
       "      <th>4</th>\n",
       "      <td>A man is playing a harp.</td>\n",
       "      <td>A man is playing a keyboard.</td>\n",
       "      <td>1.5</td>\n",
       "      <td>4</td>\n",
       "    </tr>\n",
       "  </tbody>\n",
       "</table>\n",
       "</div>"
      ],
      "text/plain": [
       "                                     resume_text  \\\n",
       "0                    A girl is styling her hair.   \n",
       "1       A group of men play soccer on the beach.   \n",
       "2  One woman is measuring another woman's ankle.   \n",
       "3                A man is cutting up a cucumber.   \n",
       "4                       A man is playing a harp.   \n",
       "\n",
       "                               job_description_text  actual_score  pair_id  \n",
       "0                      A girl is brushing her hair.           2.5        0  \n",
       "1  A group of boys are playing soccer on the beach.           3.6        1  \n",
       "2           A woman measures another woman's ankle.           5.0        2  \n",
       "3                      A man is slicing a cucumber.           4.2        3  \n",
       "4                      A man is playing a keyboard.           1.5        4  "
      ]
     },
     "execution_count": 5,
     "metadata": {},
     "output_type": "execute_result"
    }
   ],
   "source": [
    "test_df.head()"
   ]
  },
  {
   "cell_type": "code",
   "execution_count": 8,
   "id": "a19fd124",
   "metadata": {},
   "outputs": [
    {
     "name": "stdout",
     "output_type": "stream",
     "text": [
      "กำลังโหลดโมเดล Bi-Encoder: 'all-MiniLM-L6-v2'...\n"
     ]
    },
    {
     "data": {
      "application/vnd.jupyter.widget-view+json": {
       "model_id": "83d7e73ff7114a74a54976bcbca11964",
       "version_major": 2,
       "version_minor": 0
      },
      "text/plain": [
       "modules.json:   0%|          | 0.00/349 [00:00<?, ?B/s]"
      ]
     },
     "metadata": {},
     "output_type": "display_data"
    },
    {
     "name": "stderr",
     "output_type": "stream",
     "text": [
      "c:\\Users\\potij\\AppData\\Local\\Programs\\Python\\Python312\\Lib\\site-packages\\huggingface_hub\\file_download.py:140: UserWarning: `huggingface_hub` cache-system uses symlinks by default to efficiently store duplicated files but your machine does not support them in C:\\Users\\potij\\.cache\\huggingface\\hub\\models--sentence-transformers--all-MiniLM-L6-v2. Caching files will still work but in a degraded version that might require more space on your disk. This warning can be disabled by setting the `HF_HUB_DISABLE_SYMLINKS_WARNING` environment variable. For more details, see https://huggingface.co/docs/huggingface_hub/how-to-cache#limitations.\n",
      "To support symlinks on Windows, you either need to activate Developer Mode or to run Python as an administrator. In order to activate developer mode, see this article: https://docs.microsoft.com/en-us/windows/apps/get-started/enable-your-device-for-development\n",
      "  warnings.warn(message)\n"
     ]
    },
    {
     "data": {
      "application/vnd.jupyter.widget-view+json": {
       "model_id": "a5c4a692dca441a7b69ccc816f8f3957",
       "version_major": 2,
       "version_minor": 0
      },
      "text/plain": [
       "config_sentence_transformers.json:   0%|          | 0.00/116 [00:00<?, ?B/s]"
      ]
     },
     "metadata": {},
     "output_type": "display_data"
    },
    {
     "data": {
      "application/vnd.jupyter.widget-view+json": {
       "model_id": "92cf850537284783a9933bf2b2571cea",
       "version_major": 2,
       "version_minor": 0
      },
      "text/plain": [
       "README.md: 0.00B [00:00, ?B/s]"
      ]
     },
     "metadata": {},
     "output_type": "display_data"
    },
    {
     "data": {
      "application/vnd.jupyter.widget-view+json": {
       "model_id": "a02d746d04b54de98d8783a910cda3fb",
       "version_major": 2,
       "version_minor": 0
      },
      "text/plain": [
       "sentence_bert_config.json:   0%|          | 0.00/53.0 [00:00<?, ?B/s]"
      ]
     },
     "metadata": {},
     "output_type": "display_data"
    },
    {
     "data": {
      "application/vnd.jupyter.widget-view+json": {
       "model_id": "9ba9f47ac0534f9488cf9d925f50a371",
       "version_major": 2,
       "version_minor": 0
      },
      "text/plain": [
       "config.json:   0%|          | 0.00/612 [00:00<?, ?B/s]"
      ]
     },
     "metadata": {},
     "output_type": "display_data"
    },
    {
     "data": {
      "application/vnd.jupyter.widget-view+json": {
       "model_id": "0cf726f8e2c844cb9c51ffb62c6c3d3e",
       "version_major": 2,
       "version_minor": 0
      },
      "text/plain": [
       "model.safetensors:   0%|          | 0.00/90.9M [00:00<?, ?B/s]"
      ]
     },
     "metadata": {},
     "output_type": "display_data"
    },
    {
     "data": {
      "application/vnd.jupyter.widget-view+json": {
       "model_id": "16be17da23eb496ba24b402f393bce8a",
       "version_major": 2,
       "version_minor": 0
      },
      "text/plain": [
       "tokenizer_config.json:   0%|          | 0.00/350 [00:00<?, ?B/s]"
      ]
     },
     "metadata": {},
     "output_type": "display_data"
    },
    {
     "data": {
      "application/vnd.jupyter.widget-view+json": {
       "model_id": "b7774e48dc624fc6bb19fdf6c017b315",
       "version_major": 2,
       "version_minor": 0
      },
      "text/plain": [
       "vocab.txt: 0.00B [00:00, ?B/s]"
      ]
     },
     "metadata": {},
     "output_type": "display_data"
    },
    {
     "data": {
      "application/vnd.jupyter.widget-view+json": {
       "model_id": "0ae4ffa5a3c04579a53a4abaafcb07da",
       "version_major": 2,
       "version_minor": 0
      },
      "text/plain": [
       "tokenizer.json: 0.00B [00:00, ?B/s]"
      ]
     },
     "metadata": {},
     "output_type": "display_data"
    },
    {
     "data": {
      "application/vnd.jupyter.widget-view+json": {
       "model_id": "147e0a6f9fce4821a4da77b435de2a3c",
       "version_major": 2,
       "version_minor": 0
      },
      "text/plain": [
       "special_tokens_map.json:   0%|          | 0.00/112 [00:00<?, ?B/s]"
      ]
     },
     "metadata": {},
     "output_type": "display_data"
    },
    {
     "data": {
      "application/vnd.jupyter.widget-view+json": {
       "model_id": "54e3639142144e7996c0d7b6faf98bae",
       "version_major": 2,
       "version_minor": 0
      },
      "text/plain": [
       "config.json:   0%|          | 0.00/190 [00:00<?, ?B/s]"
      ]
     },
     "metadata": {},
     "output_type": "display_data"
    },
    {
     "name": "stdout",
     "output_type": "stream",
     "text": [
      "โหลดโมเดลสำเร็จ\n",
      "ตัวอย่างโมเดล: SentenceTransformer(\n",
      "  (0): Transformer({'max_seq_length': 256, 'do_lower_case': False, 'architecture': 'BertModel'})\n",
      "  (1): Pooling({'word_embedding_dimension': 384, 'pooling_mode_cls_token': False, 'pooling_mode_mean_tokens': True, 'pooling_mode_max_tokens': False, 'pooling_mode_mean_sqrt_len_tokens': False, 'pooling_mode_weightedmean_tokens': False, 'pooling_mode_lasttoken': False, 'include_prompt': True})\n",
      "  (2): Normalize()\n",
      ")\n"
     ]
    }
   ],
   "source": [
    "# %% 3. การโหลดโมเดล Bi-Encoder\n",
    "\n",
    "# โหลดโมเดลที่ถูก pre-trained มาสำหรับงาน Semantic Similarity\n",
    "# หมายเหตุ: หากทำงานกับภาษาไทยจริงๆ ควรเปลี่ยนเป็นโมเดลที่รองรับภาษาไทย\n",
    "# เช่น 'airesearch/wangchanberta-base-att-spm-uncased' แล้วใช้ผ่าน Hugging Face\n",
    "# paraphrase-multilingual-mpnet-base-v2 , sim-cse-th-best , phayathaibert\n",
    "MODEL_NAME = 'all-MiniLM-L6-v2'\n",
    "# bge-large-en-v1.5 , gte-large , e5-mistral-7b-instruct\n",
    "print(f\"กำลังโหลดโมเดล Bi-Encoder: '{MODEL_NAME}'...\")\n",
    "# SentenceTransformer จะจัดการเรื่อง device (GPU/CPU) ให้อัตโนมัติ\n",
    "encoder_model = SentenceTransformer(MODEL_NAME)\n",
    "\n",
    "print(\"โหลดโมเดลสำเร็จ\")\n",
    "print(\"ตัวอย่างโมเดล:\", encoder_model)\n"
   ]
  },
  {
   "cell_type": "code",
   "execution_count": 9,
   "id": "866c0990",
   "metadata": {},
   "outputs": [
    {
     "name": "stdout",
     "output_type": "stream",
     "text": [
      "กำลังสร้าง Embedding สำหรับ Resume...\n"
     ]
    },
    {
     "data": {
      "application/vnd.jupyter.widget-view+json": {
       "model_id": "dae160cf78aa495597d2e0b0331e12b1",
       "version_major": 2,
       "version_minor": 0
      },
      "text/plain": [
       "Batches:   0%|          | 0/180 [00:00<?, ?it/s]"
      ]
     },
     "metadata": {},
     "output_type": "display_data"
    },
    {
     "name": "stdout",
     "output_type": "stream",
     "text": [
      "\n",
      "กำลังสร้าง Embedding สำหรับ Job Description...\n"
     ]
    },
    {
     "data": {
      "application/vnd.jupyter.widget-view+json": {
       "model_id": "fcf3de68c7ed4c2f90318f17c2411504",
       "version_major": 2,
       "version_minor": 0
      },
      "text/plain": [
       "Batches:   0%|          | 0/180 [00:00<?, ?it/s]"
      ]
     },
     "metadata": {},
     "output_type": "display_data"
    },
    {
     "name": "stdout",
     "output_type": "stream",
     "text": [
      "\n",
      "กำลังคำนวณ Cosine Similarity...\n",
      "\n",
      "สร้างฟีเจอร์สำหรับ Train Set สำเร็จ\n",
      "ตัวอย่างข้อมูล Train พร้อมฟีเจอร์ใหม่:\n",
      "                                     resume_text  \\\n",
      "0                         A plane is taking off.   \n",
      "1                A man is playing a large flute.   \n",
      "2  A man is spreading shreded cheese on a pizza.   \n",
      "3                   Three men are playing chess.   \n",
      "4                    A man is playing the cello.   \n",
      "\n",
      "                                job_description_text  match_score  \\\n",
      "0                        An air plane is taking off.         5.00   \n",
      "1                          A man is playing a flute.         3.80   \n",
      "2  A man is spreading shredded cheese on an uncoo...         3.80   \n",
      "3                         Two men are playing chess.         2.60   \n",
      "4                 A man seated is playing the cello.         4.25   \n",
      "\n",
      "   cosine_similarity  \n",
      "0           0.939303  \n",
      "1           0.902032  \n",
      "2           0.892001  \n",
      "3           0.794561  \n",
      "4           0.928653  \n"
     ]
    }
   ],
   "source": [
    "# %% 4. การสร้าง Feature (Embedding และ Cosine Similarity)\n",
    "\n",
    "def create_similarity_features(df, model):\n",
    "    \"\"\"\n",
    "    ฟังก์ชันสำหรับสร้าง Embedding และคำนวณ Cosine Similarity\n",
    "    \"\"\"\n",
    "    print(\"กำลังสร้าง Embedding สำหรับ Resume...\")\n",
    "    resume_embeddings = model.encode(df['resume_text'].tolist(), show_progress_bar=True, convert_to_tensor=True)\n",
    "\n",
    "    print(\"\\nกำลังสร้าง Embedding สำหรับ Job Description...\")\n",
    "    job_embeddings = model.encode(df['job_description_text'].tolist(), show_progress_bar=True, convert_to_tensor=True)\n",
    "\n",
    "    print(\"\\nกำลังคำนวณ Cosine Similarity...\")\n",
    "    # ย้าย embedding กลับมาที่ CPU เพื่อคำนวณด้วย numpy\n",
    "    resume_embeddings_cpu = resume_embeddings.cpu().numpy()\n",
    "    job_embeddings_cpu = job_embeddings.cpu().numpy()\n",
    "\n",
    "    # คำนวณ Cosine Similarity (dot product ของ unit vectors)\n",
    "    # เราจะคำนวณแบบ element-wise (แถวต่อแถว)\n",
    "    dot_products = np.sum(resume_embeddings_cpu * job_embeddings_cpu, axis=1)\n",
    "    norm_resume = np.linalg.norm(resume_embeddings_cpu, axis=1)\n",
    "    norm_job = np.linalg.norm(job_embeddings_cpu, axis=1)\n",
    "\n",
    "    # เพิ่มค่า epsilon เล็กน้อยเพื่อป้องกันการหารด้วยศูนย์\n",
    "    epsilon = 1e-8\n",
    "    cosine_similarities = dot_products / (norm_resume * norm_job + epsilon)\n",
    "\n",
    "    df['cosine_similarity'] = cosine_similarities\n",
    "    return df\n",
    "\n",
    "# สร้างฟีเจอร์สำหรับข้อมูล Train\n",
    "train_df_featured = create_similarity_features(train_df, encoder_model)\n",
    "\n",
    "print(\"\\nสร้างฟีเจอร์สำหรับ Train Set สำเร็จ\")\n",
    "print(\"ตัวอย่างข้อมูล Train พร้อมฟีเจอร์ใหม่:\")\n",
    "print(train_df_featured.head())\n"
   ]
  },
  {
   "cell_type": "code",
   "execution_count": 10,
   "id": "a22ada7c",
   "metadata": {},
   "outputs": [
    {
     "data": {
      "application/vnd.microsoft.datawrangler.viewer.v0+json": {
       "columns": [
        {
         "name": "index",
         "rawType": "int64",
         "type": "integer"
        },
        {
         "name": "resume_text",
         "rawType": "object",
         "type": "string"
        },
        {
         "name": "job_description_text",
         "rawType": "object",
         "type": "string"
        },
        {
         "name": "match_score",
         "rawType": "float64",
         "type": "float"
        },
        {
         "name": "cosine_similarity",
         "rawType": "float32",
         "type": "float"
        }
       ],
       "ref": "4c00d80e-ed7e-4210-acdd-5245aeeb6d2c",
       "rows": [
        [
         "0",
         "A plane is taking off.",
         "An air plane is taking off.",
         "5.0",
         "0.93930346"
        ],
        [
         "1",
         "A man is playing a large flute.",
         "A man is playing a flute.",
         "3.799999952316284",
         "0.9020319"
        ],
        [
         "2",
         "A man is spreading shreded cheese on a pizza.",
         "A man is spreading shredded cheese on an uncooked pizza.",
         "3.799999952316284",
         "0.892001"
        ],
        [
         "3",
         "Three men are playing chess.",
         "Two men are playing chess.",
         "2.5999999046325684",
         "0.794561"
        ],
        [
         "4",
         "A man is playing the cello.",
         "A man seated is playing the cello.",
         "4.25",
         "0.92865264"
        ],
        [
         "5",
         "Some men are fighting.",
         "Two men are fighting.",
         "4.25",
         "0.8919878"
        ],
        [
         "6",
         "A man is smoking.",
         "A man is skating.",
         "0.5",
         "0.33276808"
        ],
        [
         "7",
         "The man is playing the piano.",
         "The man is playing the guitar.",
         "1.600000023841858",
         "0.46052387"
        ],
        [
         "8",
         "A man is playing on a guitar and singing.",
         "A woman is playing an acoustic guitar and singing.",
         "2.200000047683716",
         "0.63537467"
        ],
        [
         "9",
         "A person is throwing a cat on to the ceiling.",
         "A person throws a cat on the ceiling.",
         "5.0",
         "0.96130663"
        ],
        [
         "10",
         "The man hit the other man with a stick.",
         "The man spanked the other man with a stick.",
         "4.199999809265137",
         "0.78293943"
        ],
        [
         "11",
         "A woman picks up and holds a baby kangaroo.",
         "A woman picks up and holds a baby kangaroo in her arms.",
         "4.599999904632568",
         "0.96428955"
        ],
        [
         "12",
         "A man is playing a flute.",
         "A man is playing a bamboo flute.",
         "3.867000102996826",
         "0.8951709"
        ],
        [
         "13",
         "A person is folding a piece of paper.",
         "Someone is folding a piece of paper.",
         "4.666999816894531",
         "0.9853217"
        ],
        [
         "14",
         "A man is running on the road.",
         "A panda dog is running on the road.",
         "1.6670000553131104",
         "0.5235112"
        ],
        [
         "15",
         "A dog is trying to get bacon off his back.",
         "A dog is trying to eat the bacon on its back.",
         "3.75",
         "0.9112273"
        ],
        [
         "16",
         "The polar bear is sliding on the snow.",
         "A polar bear is sliding across the snow.",
         "5.0",
         "0.95769566"
        ],
        [
         "17",
         "A woman is writing.",
         "A woman is swimming.",
         "0.5",
         "0.39119154"
        ],
        [
         "18",
         "A cat is rubbing against baby's face.",
         "A cat is rubbing against a baby.",
         "3.799999952316284",
         "0.93390477"
        ],
        [
         "19",
         "The man is riding a horse.",
         "A man is riding on a horse.",
         "5.0",
         "0.94792986"
        ],
        [
         "20",
         "A man pours oil into a pot.",
         "A man pours wine in a pot.",
         "3.200000047683716",
         "0.7157081"
        ],
        [
         "21",
         "A man is playing a guitar.",
         "A girl is playing a guitar.",
         "2.799999952316284",
         "0.59012914"
        ],
        [
         "22",
         "A panda is sliding down a slide.",
         "A panda slides down a slide.",
         "4.599999904632568",
         "0.95025444"
        ],
        [
         "23",
         "A woman is eating something.",
         "A woman is eating meat.",
         "3.0",
         "0.74259686"
        ],
        [
         "24",
         "A woman peels a potato.",
         "A woman is peeling a potato.",
         "5.0",
         "0.9549218"
        ],
        [
         "25",
         "The boy fell off his bike.",
         "A boy falls off his bike.",
         "4.800000190734863",
         "0.93023247"
        ],
        [
         "26",
         "The woman is playing the flute.",
         "A woman is playing a flute.",
         "5.0",
         "0.97679734"
        ],
        [
         "27",
         "A rabbit is running from an eagle.",
         "A hare is running from a eagle.",
         "4.199999809265137",
         "0.8337551"
        ],
        [
         "28",
         "The woman is frying a breaded pork chop.",
         "A woman is cooking a breaded pork chop.",
         "4.199999809265137",
         "0.89978087"
        ],
        [
         "29",
         "A girl is flying a kite.",
         "A girl running is flying a kite.",
         "4.0",
         "0.85872537"
        ],
        [
         "30",
         "A man is riding a mechanical bull.",
         "A man rode a mechanical bull.",
         "4.0",
         "0.93490124"
        ],
        [
         "31",
         "The man is playing the guitar.",
         "A man is playing a guitar.",
         "4.908999919891357",
         "0.9664142"
        ],
        [
         "32",
         "A woman is dancing and singing with other women.",
         "A woman is dancing and singing in the rain.",
         "3.0",
         "0.54388964"
        ],
        [
         "33",
         "A man is slicing a bun.",
         "A man is slicing an onion.",
         "2.4000000953674316",
         "0.60189176"
        ],
        [
         "34",
         "A man is pouring oil into a pan.",
         "A man is pouring oil into a skillet.",
         "4.199999809265137",
         "0.88232976"
        ],
        [
         "35",
         "A lion is playing with people.",
         "A lion is playing with two men.",
         "3.4000000953674316",
         "0.78235036"
        ],
        [
         "36",
         "A dog rides a skateboard.",
         "A dog is riding a skateboard.",
         "5.0",
         "0.98025477"
        ],
        [
         "37",
         "Someone is carving a statue.",
         "A man is carving a statue.",
         "3.75",
         "0.91307664"
        ],
        [
         "38",
         "A woman is slicing an onion.",
         "A man is cutting an onion.",
         "2.75",
         "0.72913957"
        ],
        [
         "39",
         "A woman peels shrimp.",
         "A woman is peeling shrimp.",
         "5.0",
         "0.95646155"
        ],
        [
         "40",
         "A woman is frying fish.",
         "A woman is cooking fish.",
         "4.0",
         "0.8636921"
        ],
        [
         "41",
         "A woman is playing an electric guitar.",
         "A woman is playing a guitar.",
         "3.5999999046325684",
         "0.91500294"
        ],
        [
         "42",
         "A baby tiger is playing with a ball.",
         "A baby is playing with a doll.",
         "1.600000023841858",
         "0.34227216"
        ],
        [
         "43",
         "A person is slicing a tomato.",
         "A person is slicing some meat.",
         "1.75",
         "0.73613024"
        ],
        [
         "44",
         "A person cuts an onion.",
         "A person is cutting an onion.",
         "5.0",
         "0.97956973"
        ],
        [
         "45",
         "A man is playing the piano.",
         "A woman is playing the violin.",
         "1.0",
         "0.24764831"
        ],
        [
         "46",
         "A woman is playing the flute.",
         "A man is playing the guitar.",
         "1.0",
         "0.27444208"
        ],
        [
         "47",
         "A man is cutting up a potato.",
         "A man is cutting up carrots.",
         "2.375",
         "0.71224046"
        ],
        [
         "48",
         "A kid is playing guitar.",
         "A boy is playing a guitar.",
         "3.799999952316284",
         "0.8703862"
        ],
        [
         "49",
         "A boy is playing guitar.",
         "A man is playing a guitar.",
         "3.200000047683716",
         "0.6931771"
        ]
       ],
       "shape": {
        "columns": 4,
        "rows": 5749
       }
      },
      "text/html": [
       "<div>\n",
       "<style scoped>\n",
       "    .dataframe tbody tr th:only-of-type {\n",
       "        vertical-align: middle;\n",
       "    }\n",
       "\n",
       "    .dataframe tbody tr th {\n",
       "        vertical-align: top;\n",
       "    }\n",
       "\n",
       "    .dataframe thead th {\n",
       "        text-align: right;\n",
       "    }\n",
       "</style>\n",
       "<table border=\"1\" class=\"dataframe\">\n",
       "  <thead>\n",
       "    <tr style=\"text-align: right;\">\n",
       "      <th></th>\n",
       "      <th>resume_text</th>\n",
       "      <th>job_description_text</th>\n",
       "      <th>match_score</th>\n",
       "      <th>cosine_similarity</th>\n",
       "    </tr>\n",
       "  </thead>\n",
       "  <tbody>\n",
       "    <tr>\n",
       "      <th>0</th>\n",
       "      <td>A plane is taking off.</td>\n",
       "      <td>An air plane is taking off.</td>\n",
       "      <td>5.00</td>\n",
       "      <td>0.939303</td>\n",
       "    </tr>\n",
       "    <tr>\n",
       "      <th>1</th>\n",
       "      <td>A man is playing a large flute.</td>\n",
       "      <td>A man is playing a flute.</td>\n",
       "      <td>3.80</td>\n",
       "      <td>0.902032</td>\n",
       "    </tr>\n",
       "    <tr>\n",
       "      <th>2</th>\n",
       "      <td>A man is spreading shreded cheese on a pizza.</td>\n",
       "      <td>A man is spreading shredded cheese on an uncoo...</td>\n",
       "      <td>3.80</td>\n",
       "      <td>0.892001</td>\n",
       "    </tr>\n",
       "    <tr>\n",
       "      <th>3</th>\n",
       "      <td>Three men are playing chess.</td>\n",
       "      <td>Two men are playing chess.</td>\n",
       "      <td>2.60</td>\n",
       "      <td>0.794561</td>\n",
       "    </tr>\n",
       "    <tr>\n",
       "      <th>4</th>\n",
       "      <td>A man is playing the cello.</td>\n",
       "      <td>A man seated is playing the cello.</td>\n",
       "      <td>4.25</td>\n",
       "      <td>0.928653</td>\n",
       "    </tr>\n",
       "    <tr>\n",
       "      <th>...</th>\n",
       "      <td>...</td>\n",
       "      <td>...</td>\n",
       "      <td>...</td>\n",
       "      <td>...</td>\n",
       "    </tr>\n",
       "    <tr>\n",
       "      <th>5744</th>\n",
       "      <td>Severe Gales As Storm Clodagh Hits Britain</td>\n",
       "      <td>Merkel pledges NATO solidarity with Latvia</td>\n",
       "      <td>0.00</td>\n",
       "      <td>0.058639</td>\n",
       "    </tr>\n",
       "    <tr>\n",
       "      <th>5745</th>\n",
       "      <td>Dozens of Egyptians hostages taken by Libyan t...</td>\n",
       "      <td>Egyptian boat crash death toll rises as more b...</td>\n",
       "      <td>0.00</td>\n",
       "      <td>0.314323</td>\n",
       "    </tr>\n",
       "    <tr>\n",
       "      <th>5746</th>\n",
       "      <td>President heading to Bahrain</td>\n",
       "      <td>President Xi: China to continue help to fight ...</td>\n",
       "      <td>0.00</td>\n",
       "      <td>0.037030</td>\n",
       "    </tr>\n",
       "    <tr>\n",
       "      <th>5747</th>\n",
       "      <td>China, India vow to further bilateral ties</td>\n",
       "      <td>China Scrambles to Reassure Jittery Stock Traders</td>\n",
       "      <td>0.00</td>\n",
       "      <td>0.302837</td>\n",
       "    </tr>\n",
       "    <tr>\n",
       "      <th>5748</th>\n",
       "      <td>Putin spokesman: Doping charges appear unfounded</td>\n",
       "      <td>The Latest on Severe Weather: 1 Dead in Texas ...</td>\n",
       "      <td>0.00</td>\n",
       "      <td>-0.037640</td>\n",
       "    </tr>\n",
       "  </tbody>\n",
       "</table>\n",
       "<p>5749 rows × 4 columns</p>\n",
       "</div>"
      ],
      "text/plain": [
       "                                            resume_text  \\\n",
       "0                                A plane is taking off.   \n",
       "1                       A man is playing a large flute.   \n",
       "2         A man is spreading shreded cheese on a pizza.   \n",
       "3                          Three men are playing chess.   \n",
       "4                           A man is playing the cello.   \n",
       "...                                                 ...   \n",
       "5744         Severe Gales As Storm Clodagh Hits Britain   \n",
       "5745  Dozens of Egyptians hostages taken by Libyan t...   \n",
       "5746                       President heading to Bahrain   \n",
       "5747         China, India vow to further bilateral ties   \n",
       "5748   Putin spokesman: Doping charges appear unfounded   \n",
       "\n",
       "                                   job_description_text  match_score  \\\n",
       "0                           An air plane is taking off.         5.00   \n",
       "1                             A man is playing a flute.         3.80   \n",
       "2     A man is spreading shredded cheese on an uncoo...         3.80   \n",
       "3                            Two men are playing chess.         2.60   \n",
       "4                    A man seated is playing the cello.         4.25   \n",
       "...                                                 ...          ...   \n",
       "5744         Merkel pledges NATO solidarity with Latvia         0.00   \n",
       "5745  Egyptian boat crash death toll rises as more b...         0.00   \n",
       "5746  President Xi: China to continue help to fight ...         0.00   \n",
       "5747  China Scrambles to Reassure Jittery Stock Traders         0.00   \n",
       "5748  The Latest on Severe Weather: 1 Dead in Texas ...         0.00   \n",
       "\n",
       "      cosine_similarity  \n",
       "0              0.939303  \n",
       "1              0.902032  \n",
       "2              0.892001  \n",
       "3              0.794561  \n",
       "4              0.928653  \n",
       "...                 ...  \n",
       "5744           0.058639  \n",
       "5745           0.314323  \n",
       "5746           0.037030  \n",
       "5747           0.302837  \n",
       "5748          -0.037640  \n",
       "\n",
       "[5749 rows x 4 columns]"
      ]
     },
     "execution_count": 10,
     "metadata": {},
     "output_type": "execute_result"
    }
   ],
   "source": [
    "train_df_featured"
   ]
  },
  {
   "cell_type": "code",
   "execution_count": 20,
   "id": "65ecdf7e",
   "metadata": {},
   "outputs": [
    {
     "name": "stdout",
     "output_type": "stream",
     "text": [
      "กำลังฝึกโมเดล LightGBM...\n"
     ]
    },
    {
     "name": "stderr",
     "output_type": "stream",
     "text": [
      "c:\\Users\\potij\\AppData\\Local\\Programs\\Python\\Python312\\Lib\\site-packages\\lightgbm\\callback.py:341: UserWarning: Only training set found, disabling early stopping.\n",
      "  _log_warning(\"Only training set found, disabling early stopping.\")\n"
     ]
    },
    {
     "name": "stdout",
     "output_type": "stream",
     "text": [
      "ฝึกโมเดล LightGBM สำเร็จ!\n"
     ]
    }
   ],
   "source": [
    "# %% 5. การฝึกโมเดล Regression (LightGBM)\n",
    "\n",
    "# เตรียมข้อมูลสำหรับ LightGBM\n",
    "# X คือฟีเจอร์ (Feature)\n",
    "X_train = train_df_featured[['cosine_similarity']]\n",
    "# y คือเป้าหมาย (Target)\n",
    "y_train = train_df_featured['match_score']\n",
    "\n",
    "# กำหนดพารามิเตอร์สำหรับ LightGBM\n",
    "# เราใช้ 'regression' เป็น objective และ 'rmse' เป็น metric สำหรับการประเมิน\n",
    "lgb_params = {\n",
    "    'objective': 'regression',\n",
    "    'metric': 'rmse',\n",
    "    'n_estimators': 2000,\n",
    "    'learning_rate': 0.05,\n",
    "    'feature_fraction': 0.9,\n",
    "    'bagging_fraction': 0.8,\n",
    "    'bagging_freq': 5,\n",
    "    'verbose': -1,\n",
    "    'n_jobs': -1,\n",
    "    'seed': 42\n",
    "}\n",
    "\n",
    "print(\"กำลังฝึกโมเดล LightGBM...\")\n",
    "\n",
    "# สร้างและฝึกโมเดล\n",
    "regression_model = lgb.LGBMRegressor(**lgb_params)\n",
    "regression_model.fit(X_train, y_train,\n",
    "                     eval_set=[(X_train, y_train)],\n",
    "                     eval_metric='rmse',\n",
    "                     callbacks=[lgb.early_stopping(100, verbose=False)])\n",
    "\n",
    "print(\"ฝึกโมเดล LightGBM สำเร็จ!\")\n"
   ]
  },
  {
   "cell_type": "code",
   "execution_count": 21,
   "id": "83c6cc64",
   "metadata": {},
   "outputs": [
    {
     "name": "stdout",
     "output_type": "stream",
     "text": [
      "กำลังสร้างฟีเจอร์สำหรับ Test Set...\n",
      "กำลังสร้าง Embedding สำหรับ Resume...\n"
     ]
    },
    {
     "data": {
      "application/vnd.jupyter.widget-view+json": {
       "model_id": "05d863e423774d6e8fb9479192d22bc5",
       "version_major": 2,
       "version_minor": 0
      },
      "text/plain": [
       "Batches:   0%|          | 0/44 [00:00<?, ?it/s]"
      ]
     },
     "metadata": {},
     "output_type": "display_data"
    },
    {
     "name": "stdout",
     "output_type": "stream",
     "text": [
      "\n",
      "กำลังสร้าง Embedding สำหรับ Job Description...\n"
     ]
    },
    {
     "data": {
      "application/vnd.jupyter.widget-view+json": {
       "model_id": "4a24dd18ab904ebbbc845a8cb2989be6",
       "version_major": 2,
       "version_minor": 0
      },
      "text/plain": [
       "Batches:   0%|          | 0/44 [00:00<?, ?it/s]"
      ]
     },
     "metadata": {},
     "output_type": "display_data"
    },
    {
     "name": "stdout",
     "output_type": "stream",
     "text": [
      "\n",
      "กำลังคำนวณ Cosine Similarity...\n",
      "\n",
      "สร้างฟีเจอร์สำหรับ Test Set สำเร็จ\n",
      "กำลังทำนาย match_score สำหรับ Test Set...\n",
      "ทำนายผลสำเร็จ\n",
      "ตัวอย่างผลการทำนาย:\n",
      "   pair_id  predicted_score  actual_score\n",
      "0        0         3.533265           2.5\n",
      "1        1         3.408280           3.6\n",
      "2        2         4.168404           5.0\n",
      "3        3         3.634500           4.2\n",
      "4        4         1.191888           1.5\n",
      "\n",
      "Root Mean Squared Error (RMSE) บน Test Set: 0.8645\n"
     ]
    }
   ],
   "source": [
    "# %% 6. การทำนายผลสำหรับ Test Set\n",
    "\n",
    "print(\"กำลังสร้างฟีเจอร์สำหรับ Test Set...\")\n",
    "# 1. สร้างฟีเจอร์สำหรับ Test Set\n",
    "test_df_featured = create_similarity_features(test_df, encoder_model)\n",
    "\n",
    "print(\"\\nสร้างฟีเจอร์สำหรับ Test Set สำเร็จ\")\n",
    "\n",
    "\n",
    "# 2. ทำนายผลด้วยโมเดล Regression ที่ฝึกแล้ว\n",
    "print(\"กำลังทำนาย match_score สำหรับ Test Set...\")\n",
    "X_test = test_df_featured[['cosine_similarity']]\n",
    "predictions = regression_model.predict(X_test)\n",
    "\n",
    "# เพิ่มผลลัพธ์การทำนายลงใน DataFrame\n",
    "test_df_featured['predicted_score'] = predictions\n",
    "\n",
    "print(\"ทำนายผลสำเร็จ\")\n",
    "print(\"ตัวอย่างผลการทำนาย:\")\n",
    "# แสดง 'pair_id', 'predicted_score', และ 'actual_score' เพื่อเปรียบเทียบ\n",
    "print(test_df_featured[['pair_id', 'predicted_score', 'actual_score']].head())\n",
    "\n",
    "# ประเมินผลเทียบกับคำตอบจริง (ขั้นตอนนี้ทำได้เพราะเรามี 'actual_score')\n",
    "rmse = np.sqrt(mean_squared_error(test_df_featured['actual_score'], test_df_featured['predicted_score']))\n",
    "print(f\"\\nRoot Mean Squared Error (RMSE) บน Test Set: {rmse:.4f}\")\n"
   ]
  },
  {
   "cell_type": "code",
   "execution_count": 24,
   "id": "e270b88a",
   "metadata": {},
   "outputs": [
    {
     "name": "stdout",
     "output_type": "stream",
     "text": [
      "    pair_id  predicted_score  actual_score\n",
      "0         0         3.533265         2.500\n",
      "1         1         3.408280         3.600\n",
      "2         2         4.168404         5.000\n",
      "3         3         3.634500         4.200\n",
      "4         4         1.191888         1.500\n",
      "5         5         1.947011         1.800\n",
      "6         6         3.603353         3.500\n",
      "7         7         1.898054         2.200\n",
      "8         8         2.322161         2.200\n",
      "9         9         2.008990         1.714\n",
      "10       10         2.008990         1.714\n",
      "11       11         4.609476         5.000\n",
      "12       12         1.257835         0.600\n",
      "13       13         3.668588         4.400\n",
      "14       14         2.225836         2.000\n",
      "15       15         1.681606         1.800\n",
      "16       16         4.080972         4.400\n",
      "17       17         3.207432         3.600\n",
      "18       18         2.922054         3.600\n",
      "19       19         0.804373         1.200\n"
     ]
    }
   ],
   "source": [
    "print(test_df_featured[['pair_id', 'predicted_score', 'actual_score']].head(20))\n"
   ]
  },
  {
   "cell_type": "code",
   "execution_count": 22,
   "id": "384ebee4",
   "metadata": {},
   "outputs": [
    {
     "name": "stdout",
     "output_type": "stream",
     "text": [
      "กำลังสร้างไฟล์ submission.csv...\n",
      "\n",
      "ตัวอย่างผลลัพธ์ในไฟล์ Submission:\n",
      "   pair_id  match_score\n",
      "0        0     3.533265\n",
      "1        1     3.408280\n",
      "2        2     4.168404\n",
      "3        3     3.634500\n",
      "4        4     1.191888\n",
      "\n",
      "สร้างไฟล์ submission.csv สำเร็จ!\n"
     ]
    }
   ],
   "source": [
    "# %% 7. การสร้างไฟล์ Submission\n",
    "\n",
    "print(\"กำลังสร้างไฟล์ submission.csv...\")\n",
    "\n",
    "# เลือกเฉพาะคอลัมน์ที่ต้องการสำหรับไฟล์ submission\n",
    "submission_df = test_df_featured[['pair_id']].copy()\n",
    "submission_df['match_score'] = test_df_featured['predicted_score']\n",
    "\n",
    "# ตรวจสอบว่าคะแนนไม่เกินขอบเขต (1-5)\n",
    "# ในชุดข้อมูลนี้ ค่า cosine similarity ทำให้ score อยู่ในขอบเขต 0-5 อยู่แล้ว\n",
    "# แต่อาจจำเป็นต้อง clip หากใช้ฟีเจอร์อื่น\n",
    "submission_df['match_score'] = submission_df['match_score'].clip(0, 5)\n",
    "\n",
    "print(\"\\nตัวอย่างผลลัพธ์ในไฟล์ Submission:\")\n",
    "print(submission_df.head())\n",
    "\n",
    "# บันทึกเป็นไฟล์ CSV\n",
    "submission_df.to_csv(\"submission.csv\", index=False)\n",
    "\n",
    "print(\"\\nสร้างไฟล์ submission.csv สำเร็จ!\")\n"
   ]
  },
  {
   "cell_type": "code",
   "execution_count": null,
   "id": "3dcd34f5",
   "metadata": {},
   "outputs": [],
   "source": []
  },
  {
   "cell_type": "code",
   "execution_count": null,
   "id": "3376875b",
   "metadata": {},
   "outputs": [],
   "source": []
  },
  {
   "cell_type": "code",
   "execution_count": null,
   "id": "72d39604",
   "metadata": {},
   "outputs": [],
   "source": []
  }
 ],
 "metadata": {
  "kernelspec": {
   "display_name": "Python 3",
   "language": "python",
   "name": "python3"
  },
  "language_info": {
   "codemirror_mode": {
    "name": "ipython",
    "version": 3
   },
   "file_extension": ".py",
   "mimetype": "text/x-python",
   "name": "python",
   "nbconvert_exporter": "python",
   "pygments_lexer": "ipython3",
   "version": "3.12.0"
  }
 },
 "nbformat": 4,
 "nbformat_minor": 5
}
